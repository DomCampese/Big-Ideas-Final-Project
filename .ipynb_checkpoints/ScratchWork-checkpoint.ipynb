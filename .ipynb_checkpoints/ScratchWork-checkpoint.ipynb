{
 "cells": [
  {
   "cell_type": "code",
   "execution_count": 1,
<<<<<<< HEAD
   "id": "identical-baseball",
=======
   "id": "heard-brief",
>>>>>>> 27b194f28e4444475e09489bf36280a4fa5bc2d1
   "metadata": {},
   "outputs": [],
   "source": [
    "import pandas as pd\n",
    "import geopandas"
   ]
  },
  {
   "cell_type": "markdown",
<<<<<<< HEAD
   "id": "whole-handbook",
=======
   "id": "typical-treatment",
>>>>>>> 27b194f28e4444475e09489bf36280a4fa5bc2d1
   "metadata": {},
   "source": [
    "# \"Best\" Metric\n",
    "\n",
    "### Safest = Best\n",
    "\n",
    "### Submetrics\n",
    "* [Fires](https://data.wprdc.org/dataset/fire-incidents-in-city-of-pittsburgh)\n",
    "* [Crime/Arrests](https://data.wprdc.org/dataset/arrest-data)\n",
    "* [EMS & Fire Dispatches](https://data.wprdc.org/dataset/allegheny-county-911-dispatches-ems-and-fire)\n",
    "* [Asbestos](https://data.wprdc.org/dataset/allegheny-county-asbestos-permit)\n",
    "* [Traffic Signs](https://www.youtube.com/watch?v=qHzaH4aSbho)"
   ]
  },
  {
   "cell_type": "markdown",
<<<<<<< HEAD
   "id": "controlling-holocaust",
   "metadata": {},
   "source": [
    "# Responsibilities"
   ]
=======
   "id": "joint-government",
   "metadata": {},
   "source": [
    "## Responsibilities\n",
    "* Dom: Arrests Notebook\n",
    "* Will: Amount of fires per neighborhood"
   ]
  },
  {
   "cell_type": "code",
   "execution_count": null,
   "id": "vocational-london",
   "metadata": {},
   "outputs": [],
   "source": []
>>>>>>> 27b194f28e4444475e09489bf36280a4fa5bc2d1
  }
 ],
 "metadata": {
  "kernelspec": {
   "display_name": "Python 3",
   "language": "python",
   "name": "python3"
  },
  "language_info": {
   "codemirror_mode": {
    "name": "ipython",
    "version": 3
   },
   "file_extension": ".py",
   "mimetype": "text/x-python",
   "name": "python",
   "nbconvert_exporter": "python",
   "pygments_lexer": "ipython3",
   "version": "3.7.7"
  }
 },
 "nbformat": 4,
 "nbformat_minor": 5
}
