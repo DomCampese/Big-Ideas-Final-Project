{
 "cells": [
  {
   "cell_type": "markdown",
   "id": "nearby-switch",
   "metadata": {},
   "source": [
    "# Final Project Real Version"
   ]
  },
  {
   "cell_type": "markdown",
   "id": "compact-spiritual",
   "metadata": {},
   "source": [
    "## Todo\n",
    "* Complete density journal\n",
    "* Merge three journals\n",
    "* Fire scaled by population density\n",
    "* Arrests scaled by population\n",
    "* Make outlandish assertions"
   ]
  },
  {
   "cell_type": "code",
   "execution_count": null,
   "id": "treated-intermediate",
   "metadata": {},
   "outputs": [],
   "source": []
  }
 ],
 "metadata": {
  "kernelspec": {
   "display_name": "Python 3",
   "language": "python",
   "name": "python3"
  },
  "language_info": {
   "codemirror_mode": {
    "name": "ipython",
    "version": 3
   },
   "file_extension": ".py",
   "mimetype": "text/x-python",
   "name": "python",
   "nbconvert_exporter": "python",
   "pygments_lexer": "ipython3",
   "version": "3.8.5"
  }
 },
 "nbformat": 4,
 "nbformat_minor": 5
}
